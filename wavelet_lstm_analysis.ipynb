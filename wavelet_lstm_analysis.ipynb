{
 "cells": [
  {
   "cell_type": "code",
   "execution_count": 1,
   "metadata": {},
   "outputs": [],
   "source": [
    "import pandas as pd\n",
    "import numpy as np\n",
    "import matplotlib.pyplot as plt\n",
    "import seaborn as sns\n",
    "%matplotlib inline\n"
   ]
  },
  {
   "cell_type": "code",
   "execution_count": 2,
   "metadata": {},
   "outputs": [],
   "source": [
    "from datetime import datetime, time\n",
    "#import pandas_datareader.data as pdr\n",
    "import pandas_datareader.data as pdr\n",
    "import yfinance as yf"
   ]
  },
  {
   "cell_type": "code",
   "execution_count": 3,
   "metadata": {},
   "outputs": [
    {
     "name": "stdout",
     "output_type": "stream",
     "text": [
      "YF.download() has changed argument auto_adjust default to True\n"
     ]
    },
    {
     "name": "stderr",
     "output_type": "stream",
     "text": [
      "[*********************100%***********************]  1 of 1 completed"
     ]
    },
    {
     "name": "stdout",
     "output_type": "stream",
     "text": [
      "Price          Close      High       Low      Open     Volume\n",
      "Ticker          AAPL      AAPL      AAPL      AAPL       AAPL\n",
      "Date                                                         \n",
      "2010-01-04  6.440331  6.455077  6.391278  6.422877  493729600\n",
      "2010-01-05  6.451466  6.487879  6.417459  6.458086  601904800\n",
      "2010-01-06  6.348847  6.477046  6.342226  6.451466  552160000\n",
      "2010-01-07  6.337110  6.379844  6.291067  6.372320  477131200\n",
      "2010-01-08  6.379240  6.379842  6.291368  6.328683  447610800\n"
     ]
    },
    {
     "name": "stderr",
     "output_type": "stream",
     "text": [
      "\n"
     ]
    }
   ],
   "source": [
    "#Download historical stock data\n",
    "ticker_symbol = 'AAPL'\n",
    "stock_data = yf.download(tickers= ticker_symbol, start= '2010-01-01', end= '2025-01-01')\n",
    "print(stock_data.head())"
   ]
  },
  {
   "cell_type": "markdown",
   "metadata": {},
   "source": [
    "Another methods for data extraction"
   ]
  },
  {
   "cell_type": "code",
   "execution_count": 4,
   "metadata": {},
   "outputs": [
    {
     "name": "stderr",
     "output_type": "stream",
     "text": [
      "[*********************100%***********************]  1 of 1 completed"
     ]
    },
    {
     "name": "stdout",
     "output_type": "stream",
     "text": [
      "            Close   High    Low   Open     Volume\n",
      "Date                                             \n",
      "2015-04-01  27.75  27.94  27.49  27.88  162485600\n",
      "2015-04-02  27.99  28.04  27.74  27.92  128880400\n",
      "2015-04-06  28.44  28.48  27.77  27.80  148776000\n",
      "2015-04-07  28.14  28.61  28.13  28.51  140049200\n",
      "2015-04-08  28.05  28.23  27.91  28.11  149316800\n"
     ]
    },
    {
     "name": "stderr",
     "output_type": "stream",
     "text": [
      "\n"
     ]
    }
   ],
   "source": [
    "today = datetime.now().date()\n",
    "five_year_ago = today.replace(year = today.year-5)\n",
    "ten_year_ago = today.replace(year = today.year-10)\n",
    "twenty_year_ago = today.replace(year= today.year-20)\n",
    "stock_symbol = \"AAPL\"\n",
    "try:\n",
    "    data =yf.download(stock_symbol, start=ten_year_ago, end=today, rounding=True,multi_level_index=False)\n",
    "    print(data.head())\n",
    "except Exception as e:\n",
    "    print(f\"Error: {e}\")"
   ]
  },
  {
   "cell_type": "code",
   "execution_count": 5,
   "metadata": {},
   "outputs": [
    {
     "name": "stdout",
     "output_type": "stream",
     "text": [
      "<class 'pandas.core.frame.DataFrame'>\n",
      "DatetimeIndex: 2515 entries, 2015-04-01 to 2025-03-31\n",
      "Data columns (total 5 columns):\n",
      " #   Column  Non-Null Count  Dtype  \n",
      "---  ------  --------------  -----  \n",
      " 0   Close   2515 non-null   float64\n",
      " 1   High    2515 non-null   float64\n",
      " 2   Low     2515 non-null   float64\n",
      " 3   Open    2515 non-null   float64\n",
      " 4   Volume  2515 non-null   int64  \n",
      "dtypes: float64(4), int64(1)\n",
      "memory usage: 117.9 KB\n"
     ]
    }
   ],
   "source": [
    "data.info()"
   ]
  },
  {
   "cell_type": "markdown",
   "metadata": {},
   "source": [
    "Test for Normality"
   ]
  },
  {
   "cell_type": "code",
   "execution_count": 6,
   "metadata": {},
   "outputs": [
    {
     "name": "stdout",
     "output_type": "stream",
     "text": [
      "Jarque-Bera statistic : 230.99793783225113\n",
      "p-value: 6.909317248279447e-51\n",
      "the dataset is not normally distributed\n"
     ]
    }
   ],
   "source": [
    "from scipy.stats import jarque_bera\n",
    "\n",
    "jb_stat, jb_p = jarque_bera(data['Close'])\n",
    "\n",
    "print(\"Jarque-Bera statistic :\", jb_stat)\n",
    "print(\"p-value:\", jb_p)\n",
    "\n",
    "if jb_p < 0.05:\n",
    "    print(\"the dataset is not normally distributed\")\n",
    "else:\n",
    "    print(\"the dataset is normally distributed\")\n"
   ]
  },
  {
   "cell_type": "markdown",
   "metadata": {},
   "source": [
    "Test for Autocorrelation"
   ]
  },
  {
   "cell_type": "code",
   "execution_count": 8,
   "metadata": {},
   "outputs": [
    {
     "name": "stdout",
     "output_type": "stream",
     "text": [
      "Ljung-Box test p-value for lag 5: 0.00000\n",
      "Interpretation: Reject null hypothesis at lag 5: Significant autocorrelation present\n",
      "\n",
      "Ljung-Box test p-value for lag 10: 0.00000\n",
      "Interpretation: Reject null hypothesis at lag 10: Significant autocorrelation present\n",
      "\n"
     ]
    }
   ],
   "source": [
    "from statsmodels.stats.diagnostic import acorr_ljungbox\n",
    "\n",
    "def ljungbox_test(data, lags_list=[5,10]):\n",
    "    for lag in lags_list:\n",
    "        lb_test = acorr_ljungbox(data, lags= lags_list, return_df=True)\n",
    "\n",
    "        p_value = lb_test['lb_pvalue'].iloc[0]\n",
    "\n",
    "        if p_value > 0.05:\n",
    "            interpretation = f\"Fail to reject the null hypothesis at lag {lag}: No significance autocorrelation.\"\n",
    "        else:\n",
    "            interpretation = f\"Reject null hypothesis at lag {lag}: Significant autocorrelation present\"\n",
    "\n",
    "        print(f\"Ljung-Box test p-value for lag {lag}: {p_value:.5f}\")\n",
    "        print(f\"Interpretation: {interpretation}\")\n",
    "        print()\n",
    "\n",
    "ljungbox_test(data['Close'])"
   ]
  },
  {
   "cell_type": "markdown",
   "metadata": {},
   "source": [
    "Test for stationary"
   ]
  },
  {
   "cell_type": "code",
   "execution_count": null,
   "metadata": {},
   "outputs": [],
   "source": [
    "#Augmented Dickey_fuller test\n",
    "result = "
   ]
  }
 ],
 "metadata": {
  "kernelspec": {
   "display_name": "stock_analysis",
   "language": "python",
   "name": "stock_analysis"
  },
  "language_info": {
   "codemirror_mode": {
    "name": "ipython",
    "version": 3
   },
   "file_extension": ".py",
   "mimetype": "text/x-python",
   "name": "python",
   "nbconvert_exporter": "python",
   "pygments_lexer": "ipython3",
   "version": "3.9.6"
  }
 },
 "nbformat": 4,
 "nbformat_minor": 2
}
