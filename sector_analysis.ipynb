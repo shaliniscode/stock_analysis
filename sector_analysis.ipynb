{
 "cells": [
  {
   "cell_type": "code",
   "execution_count": 2,
   "id": "f75c006b",
   "metadata": {},
   "outputs": [],
   "source": [
    "import pandas as pd\n",
    "import numpy as np\n",
    "import matplotlib.pyplot as plt\n",
    "import seaborn as sns\n",
    "%matplotlib inline\n",
    "sns.set()\n"
   ]
  },
  {
   "cell_type": "code",
   "execution_count": 3,
   "id": "030b383b",
   "metadata": {},
   "outputs": [],
   "source": [
    "from datetime import datetime, time\n",
    "import pandas_datareader.data as pdr"
   ]
  },
  {
   "cell_type": "code",
   "execution_count": 4,
   "id": "3811e44d",
   "metadata": {},
   "outputs": [],
   "source": [
    "data = pd.read_csv('srit_daily_historical-data-09-04-2025.csv') "
   ]
  },
  {
   "cell_type": "code",
   "execution_count": 5,
   "id": "2c8e01b8",
   "metadata": {},
   "outputs": [
    {
     "data": {
      "text/html": [
       "<div>\n",
       "<style scoped>\n",
       "    .dataframe tbody tr th:only-of-type {\n",
       "        vertical-align: middle;\n",
       "    }\n",
       "\n",
       "    .dataframe tbody tr th {\n",
       "        vertical-align: top;\n",
       "    }\n",
       "\n",
       "    .dataframe thead th {\n",
       "        text-align: right;\n",
       "    }\n",
       "</style>\n",
       "<table border=\"1\" class=\"dataframe\">\n",
       "  <thead>\n",
       "    <tr style=\"text-align: right;\">\n",
       "      <th></th>\n",
       "      <th>Time</th>\n",
       "      <th>Open</th>\n",
       "      <th>High</th>\n",
       "      <th>Low</th>\n",
       "      <th>Last</th>\n",
       "      <th>Change</th>\n",
       "      <th>%Chg</th>\n",
       "      <th>Volume</th>\n",
       "    </tr>\n",
       "  </thead>\n",
       "  <tbody>\n",
       "    <tr>\n",
       "      <th>0</th>\n",
       "      <td>2025-09-04</td>\n",
       "      <td>5215.92</td>\n",
       "      <td>5225.68</td>\n",
       "      <td>5209.68</td>\n",
       "      <td>5221.52</td>\n",
       "      <td>-5.12</td>\n",
       "      <td>-0.10%</td>\n",
       "      <td>48531517.0</td>\n",
       "    </tr>\n",
       "    <tr>\n",
       "      <th>1</th>\n",
       "      <td>2025-09-03</td>\n",
       "      <td>5221.19</td>\n",
       "      <td>5239.91</td>\n",
       "      <td>5187.04</td>\n",
       "      <td>5226.64</td>\n",
       "      <td>42.75</td>\n",
       "      <td>+0.82%</td>\n",
       "      <td>697671345.0</td>\n",
       "    </tr>\n",
       "    <tr>\n",
       "      <th>2</th>\n",
       "      <td>2025-09-02</td>\n",
       "      <td>5130.87</td>\n",
       "      <td>5187.28</td>\n",
       "      <td>5113.23</td>\n",
       "      <td>5183.89</td>\n",
       "      <td>-50.68</td>\n",
       "      <td>-0.97%</td>\n",
       "      <td>777499803.0</td>\n",
       "    </tr>\n",
       "    <tr>\n",
       "      <th>3</th>\n",
       "      <td>2025-08-29</td>\n",
       "      <td>5298.49</td>\n",
       "      <td>5298.49</td>\n",
       "      <td>5218.27</td>\n",
       "      <td>5234.57</td>\n",
       "      <td>-86.83</td>\n",
       "      <td>-1.63%</td>\n",
       "      <td>786812006.0</td>\n",
       "    </tr>\n",
       "    <tr>\n",
       "      <th>4</th>\n",
       "      <td>2025-08-28</td>\n",
       "      <td>5288.38</td>\n",
       "      <td>5336.61</td>\n",
       "      <td>5255.49</td>\n",
       "      <td>5321.40</td>\n",
       "      <td>34.63</td>\n",
       "      <td>+0.66%</td>\n",
       "      <td>812409759.0</td>\n",
       "    </tr>\n",
       "    <tr>\n",
       "      <th>...</th>\n",
       "      <td>...</td>\n",
       "      <td>...</td>\n",
       "      <td>...</td>\n",
       "      <td>...</td>\n",
       "      <td>...</td>\n",
       "      <td>...</td>\n",
       "      <td>...</td>\n",
       "      <td>...</td>\n",
       "    </tr>\n",
       "    <tr>\n",
       "      <th>6452</th>\n",
       "      <td>2000-01-07</td>\n",
       "      <td>756.69</td>\n",
       "      <td>756.69</td>\n",
       "      <td>756.69</td>\n",
       "      <td>756.69</td>\n",
       "      <td>12.32</td>\n",
       "      <td>+1.66%</td>\n",
       "      <td>0.0</td>\n",
       "    </tr>\n",
       "    <tr>\n",
       "      <th>6453</th>\n",
       "      <td>2000-01-06</td>\n",
       "      <td>744.37</td>\n",
       "      <td>744.37</td>\n",
       "      <td>744.37</td>\n",
       "      <td>744.37</td>\n",
       "      <td>-30.72</td>\n",
       "      <td>-3.96%</td>\n",
       "      <td>0.0</td>\n",
       "    </tr>\n",
       "    <tr>\n",
       "      <th>6454</th>\n",
       "      <td>2000-01-05</td>\n",
       "      <td>775.09</td>\n",
       "      <td>775.09</td>\n",
       "      <td>775.09</td>\n",
       "      <td>775.09</td>\n",
       "      <td>-8.34</td>\n",
       "      <td>-1.06%</td>\n",
       "      <td>0.0</td>\n",
       "    </tr>\n",
       "    <tr>\n",
       "      <th>6455</th>\n",
       "      <td>2000-01-04</td>\n",
       "      <td>783.43</td>\n",
       "      <td>783.43</td>\n",
       "      <td>783.43</td>\n",
       "      <td>783.43</td>\n",
       "      <td>-45.75</td>\n",
       "      <td>-5.52%</td>\n",
       "      <td>0.0</td>\n",
       "    </tr>\n",
       "    <tr>\n",
       "      <th>6456</th>\n",
       "      <td>Downloaded from Barchart.com as of 09-04-2025 ...</td>\n",
       "      <td>NaN</td>\n",
       "      <td>NaN</td>\n",
       "      <td>NaN</td>\n",
       "      <td>NaN</td>\n",
       "      <td>NaN</td>\n",
       "      <td>NaN</td>\n",
       "      <td>NaN</td>\n",
       "    </tr>\n",
       "  </tbody>\n",
       "</table>\n",
       "<p>6457 rows × 8 columns</p>\n",
       "</div>"
      ],
      "text/plain": [
       "                                                   Time     Open     High  \\\n",
       "0                                            2025-09-04  5215.92  5225.68   \n",
       "1                                            2025-09-03  5221.19  5239.91   \n",
       "2                                            2025-09-02  5130.87  5187.28   \n",
       "3                                            2025-08-29  5298.49  5298.49   \n",
       "4                                            2025-08-28  5288.38  5336.61   \n",
       "...                                                 ...      ...      ...   \n",
       "6452                                         2000-01-07   756.69   756.69   \n",
       "6453                                         2000-01-06   744.37   744.37   \n",
       "6454                                         2000-01-05   775.09   775.09   \n",
       "6455                                         2000-01-04   783.43   783.43   \n",
       "6456  Downloaded from Barchart.com as of 09-04-2025 ...      NaN      NaN   \n",
       "\n",
       "          Low     Last  Change    %Chg       Volume  \n",
       "0     5209.68  5221.52   -5.12  -0.10%   48531517.0  \n",
       "1     5187.04  5226.64   42.75  +0.82%  697671345.0  \n",
       "2     5113.23  5183.89  -50.68  -0.97%  777499803.0  \n",
       "3     5218.27  5234.57  -86.83  -1.63%  786812006.0  \n",
       "4     5255.49  5321.40   34.63  +0.66%  812409759.0  \n",
       "...       ...      ...     ...     ...          ...  \n",
       "6452   756.69   756.69   12.32  +1.66%          0.0  \n",
       "6453   744.37   744.37  -30.72  -3.96%          0.0  \n",
       "6454   775.09   775.09   -8.34  -1.06%          0.0  \n",
       "6455   783.43   783.43  -45.75  -5.52%          0.0  \n",
       "6456      NaN      NaN     NaN     NaN          NaN  \n",
       "\n",
       "[6457 rows x 8 columns]"
      ]
     },
     "execution_count": 5,
     "metadata": {},
     "output_type": "execute_result"
    }
   ],
   "source": [
    "data"
   ]
  },
  {
   "cell_type": "code",
   "execution_count": 9,
   "id": "decc8e6f",
   "metadata": {},
   "outputs": [],
   "source": [
    "data_srit = data.set_index('Time')"
   ]
  },
  {
   "cell_type": "code",
   "execution_count": 10,
   "id": "69d75b29",
   "metadata": {},
   "outputs": [
    {
     "data": {
      "text/html": [
       "<div>\n",
       "<style scoped>\n",
       "    .dataframe tbody tr th:only-of-type {\n",
       "        vertical-align: middle;\n",
       "    }\n",
       "\n",
       "    .dataframe tbody tr th {\n",
       "        vertical-align: top;\n",
       "    }\n",
       "\n",
       "    .dataframe thead th {\n",
       "        text-align: right;\n",
       "    }\n",
       "</style>\n",
       "<table border=\"1\" class=\"dataframe\">\n",
       "  <thead>\n",
       "    <tr style=\"text-align: right;\">\n",
       "      <th></th>\n",
       "      <th>Open</th>\n",
       "      <th>High</th>\n",
       "      <th>Low</th>\n",
       "      <th>Last</th>\n",
       "      <th>Change</th>\n",
       "      <th>%Chg</th>\n",
       "      <th>Volume</th>\n",
       "    </tr>\n",
       "    <tr>\n",
       "      <th>Time</th>\n",
       "      <th></th>\n",
       "      <th></th>\n",
       "      <th></th>\n",
       "      <th></th>\n",
       "      <th></th>\n",
       "      <th></th>\n",
       "      <th></th>\n",
       "    </tr>\n",
       "  </thead>\n",
       "  <tbody>\n",
       "    <tr>\n",
       "      <th>2025-09-04</th>\n",
       "      <td>5215.92</td>\n",
       "      <td>5225.68</td>\n",
       "      <td>5209.68</td>\n",
       "      <td>5221.52</td>\n",
       "      <td>-5.12</td>\n",
       "      <td>-0.10%</td>\n",
       "      <td>48531517.0</td>\n",
       "    </tr>\n",
       "    <tr>\n",
       "      <th>2025-09-03</th>\n",
       "      <td>5221.19</td>\n",
       "      <td>5239.91</td>\n",
       "      <td>5187.04</td>\n",
       "      <td>5226.64</td>\n",
       "      <td>42.75</td>\n",
       "      <td>+0.82%</td>\n",
       "      <td>697671345.0</td>\n",
       "    </tr>\n",
       "    <tr>\n",
       "      <th>2025-09-02</th>\n",
       "      <td>5130.87</td>\n",
       "      <td>5187.28</td>\n",
       "      <td>5113.23</td>\n",
       "      <td>5183.89</td>\n",
       "      <td>-50.68</td>\n",
       "      <td>-0.97%</td>\n",
       "      <td>777499803.0</td>\n",
       "    </tr>\n",
       "    <tr>\n",
       "      <th>2025-08-29</th>\n",
       "      <td>5298.49</td>\n",
       "      <td>5298.49</td>\n",
       "      <td>5218.27</td>\n",
       "      <td>5234.57</td>\n",
       "      <td>-86.83</td>\n",
       "      <td>-1.63%</td>\n",
       "      <td>786812006.0</td>\n",
       "    </tr>\n",
       "    <tr>\n",
       "      <th>2025-08-28</th>\n",
       "      <td>5288.38</td>\n",
       "      <td>5336.61</td>\n",
       "      <td>5255.49</td>\n",
       "      <td>5321.40</td>\n",
       "      <td>34.63</td>\n",
       "      <td>+0.66%</td>\n",
       "      <td>812409759.0</td>\n",
       "    </tr>\n",
       "    <tr>\n",
       "      <th>...</th>\n",
       "      <td>...</td>\n",
       "      <td>...</td>\n",
       "      <td>...</td>\n",
       "      <td>...</td>\n",
       "      <td>...</td>\n",
       "      <td>...</td>\n",
       "      <td>...</td>\n",
       "    </tr>\n",
       "    <tr>\n",
       "      <th>2000-01-10</th>\n",
       "      <td>788.03</td>\n",
       "      <td>788.03</td>\n",
       "      <td>788.03</td>\n",
       "      <td>788.03</td>\n",
       "      <td>31.34</td>\n",
       "      <td>+4.14%</td>\n",
       "      <td>0.0</td>\n",
       "    </tr>\n",
       "    <tr>\n",
       "      <th>2000-01-07</th>\n",
       "      <td>756.69</td>\n",
       "      <td>756.69</td>\n",
       "      <td>756.69</td>\n",
       "      <td>756.69</td>\n",
       "      <td>12.32</td>\n",
       "      <td>+1.66%</td>\n",
       "      <td>0.0</td>\n",
       "    </tr>\n",
       "    <tr>\n",
       "      <th>2000-01-06</th>\n",
       "      <td>744.37</td>\n",
       "      <td>744.37</td>\n",
       "      <td>744.37</td>\n",
       "      <td>744.37</td>\n",
       "      <td>-30.72</td>\n",
       "      <td>-3.96%</td>\n",
       "      <td>0.0</td>\n",
       "    </tr>\n",
       "    <tr>\n",
       "      <th>2000-01-05</th>\n",
       "      <td>775.09</td>\n",
       "      <td>775.09</td>\n",
       "      <td>775.09</td>\n",
       "      <td>775.09</td>\n",
       "      <td>-8.34</td>\n",
       "      <td>-1.06%</td>\n",
       "      <td>0.0</td>\n",
       "    </tr>\n",
       "    <tr>\n",
       "      <th>2000-01-04</th>\n",
       "      <td>783.43</td>\n",
       "      <td>783.43</td>\n",
       "      <td>783.43</td>\n",
       "      <td>783.43</td>\n",
       "      <td>-45.75</td>\n",
       "      <td>-5.52%</td>\n",
       "      <td>0.0</td>\n",
       "    </tr>\n",
       "  </tbody>\n",
       "</table>\n",
       "<p>6456 rows × 7 columns</p>\n",
       "</div>"
      ],
      "text/plain": [
       "               Open     High      Low     Last  Change    %Chg       Volume\n",
       "Time                                                                       \n",
       "2025-09-04  5215.92  5225.68  5209.68  5221.52   -5.12  -0.10%   48531517.0\n",
       "2025-09-03  5221.19  5239.91  5187.04  5226.64   42.75  +0.82%  697671345.0\n",
       "2025-09-02  5130.87  5187.28  5113.23  5183.89  -50.68  -0.97%  777499803.0\n",
       "2025-08-29  5298.49  5298.49  5218.27  5234.57  -86.83  -1.63%  786812006.0\n",
       "2025-08-28  5288.38  5336.61  5255.49  5321.40   34.63  +0.66%  812409759.0\n",
       "...             ...      ...      ...      ...     ...     ...          ...\n",
       "2000-01-10   788.03   788.03   788.03   788.03   31.34  +4.14%          0.0\n",
       "2000-01-07   756.69   756.69   756.69   756.69   12.32  +1.66%          0.0\n",
       "2000-01-06   744.37   744.37   744.37   744.37  -30.72  -3.96%          0.0\n",
       "2000-01-05   775.09   775.09   775.09   775.09   -8.34  -1.06%          0.0\n",
       "2000-01-04   783.43   783.43   783.43   783.43  -45.75  -5.52%          0.0\n",
       "\n",
       "[6456 rows x 7 columns]"
      ]
     },
     "execution_count": 10,
     "metadata": {},
     "output_type": "execute_result"
    }
   ],
   "source": [
    "data_srit"
   ]
  },
  {
   "cell_type": "code",
   "execution_count": 15,
   "id": "305b5892",
   "metadata": {},
   "outputs": [],
   "source": [
    "data_srit.index = pd.to_datetime(data_srit.index)"
   ]
  },
  {
   "cell_type": "code",
   "execution_count": null,
   "id": "658e8202",
   "metadata": {},
   "outputs": [
    {
     "data": {
      "text/plain": [
       "DatetimeIndex(['2025-09-04', '2025-09-03', '2025-09-02', '2025-08-29',\n",
       "               '2025-08-28', '2025-08-27', '2025-08-26', '2025-08-25',\n",
       "               '2025-08-22', '2025-08-21',\n",
       "               ...\n",
       "               '2000-01-18', '2000-01-14', '2000-01-13', '2000-01-12',\n",
       "               '2000-01-11', '2000-01-10', '2000-01-07', '2000-01-06',\n",
       "               '2000-01-05', '2000-01-04'],\n",
       "              dtype='datetime64[ns]', name='Time', length=6456, freq=None)"
      ]
     },
     "execution_count": 16,
     "metadata": {},
     "output_type": "execute_result"
    }
   ],
   "source": [
    "\n",
    "data_srit.index"
   ]
  },
  {
   "cell_type": "code",
   "execution_count": 60,
   "id": "0a5d40f6",
   "metadata": {},
   "outputs": [],
   "source": [
    "data_srit['Month_num'] = data_srit.index.month"
   ]
  },
  {
   "cell_type": "code",
   "execution_count": 61,
   "id": "11d54472",
   "metadata": {},
   "outputs": [
    {
     "data": {
      "text/html": [
       "<div>\n",
       "<style scoped>\n",
       "    .dataframe tbody tr th:only-of-type {\n",
       "        vertical-align: middle;\n",
       "    }\n",
       "\n",
       "    .dataframe tbody tr th {\n",
       "        vertical-align: top;\n",
       "    }\n",
       "\n",
       "    .dataframe thead th {\n",
       "        text-align: right;\n",
       "    }\n",
       "</style>\n",
       "<table border=\"1\" class=\"dataframe\">\n",
       "  <thead>\n",
       "    <tr style=\"text-align: right;\">\n",
       "      <th></th>\n",
       "      <th>Open</th>\n",
       "      <th>High</th>\n",
       "      <th>Low</th>\n",
       "      <th>Last</th>\n",
       "      <th>Change</th>\n",
       "      <th>%Chg</th>\n",
       "      <th>Volume</th>\n",
       "      <th>Month_num</th>\n",
       "    </tr>\n",
       "    <tr>\n",
       "      <th>Time</th>\n",
       "      <th></th>\n",
       "      <th></th>\n",
       "      <th></th>\n",
       "      <th></th>\n",
       "      <th></th>\n",
       "      <th></th>\n",
       "      <th></th>\n",
       "      <th></th>\n",
       "    </tr>\n",
       "  </thead>\n",
       "  <tbody>\n",
       "    <tr>\n",
       "      <th>2025-09-04</th>\n",
       "      <td>5215.92</td>\n",
       "      <td>5225.68</td>\n",
       "      <td>5209.68</td>\n",
       "      <td>5221.52</td>\n",
       "      <td>-5.12</td>\n",
       "      <td>-0.10%</td>\n",
       "      <td>48531517.0</td>\n",
       "      <td>9</td>\n",
       "    </tr>\n",
       "    <tr>\n",
       "      <th>2025-09-03</th>\n",
       "      <td>5221.19</td>\n",
       "      <td>5239.91</td>\n",
       "      <td>5187.04</td>\n",
       "      <td>5226.64</td>\n",
       "      <td>42.75</td>\n",
       "      <td>+0.82%</td>\n",
       "      <td>697671345.0</td>\n",
       "      <td>9</td>\n",
       "    </tr>\n",
       "    <tr>\n",
       "      <th>2025-09-02</th>\n",
       "      <td>5130.87</td>\n",
       "      <td>5187.28</td>\n",
       "      <td>5113.23</td>\n",
       "      <td>5183.89</td>\n",
       "      <td>-50.68</td>\n",
       "      <td>-0.97%</td>\n",
       "      <td>777499803.0</td>\n",
       "      <td>9</td>\n",
       "    </tr>\n",
       "    <tr>\n",
       "      <th>2025-08-29</th>\n",
       "      <td>5298.49</td>\n",
       "      <td>5298.49</td>\n",
       "      <td>5218.27</td>\n",
       "      <td>5234.57</td>\n",
       "      <td>-86.83</td>\n",
       "      <td>-1.63%</td>\n",
       "      <td>786812006.0</td>\n",
       "      <td>8</td>\n",
       "    </tr>\n",
       "    <tr>\n",
       "      <th>2025-08-28</th>\n",
       "      <td>5288.38</td>\n",
       "      <td>5336.61</td>\n",
       "      <td>5255.49</td>\n",
       "      <td>5321.40</td>\n",
       "      <td>34.63</td>\n",
       "      <td>+0.66%</td>\n",
       "      <td>812409759.0</td>\n",
       "      <td>8</td>\n",
       "    </tr>\n",
       "    <tr>\n",
       "      <th>...</th>\n",
       "      <td>...</td>\n",
       "      <td>...</td>\n",
       "      <td>...</td>\n",
       "      <td>...</td>\n",
       "      <td>...</td>\n",
       "      <td>...</td>\n",
       "      <td>...</td>\n",
       "      <td>...</td>\n",
       "    </tr>\n",
       "    <tr>\n",
       "      <th>2000-01-10</th>\n",
       "      <td>788.03</td>\n",
       "      <td>788.03</td>\n",
       "      <td>788.03</td>\n",
       "      <td>788.03</td>\n",
       "      <td>31.34</td>\n",
       "      <td>+4.14%</td>\n",
       "      <td>0.0</td>\n",
       "      <td>1</td>\n",
       "    </tr>\n",
       "    <tr>\n",
       "      <th>2000-01-07</th>\n",
       "      <td>756.69</td>\n",
       "      <td>756.69</td>\n",
       "      <td>756.69</td>\n",
       "      <td>756.69</td>\n",
       "      <td>12.32</td>\n",
       "      <td>+1.66%</td>\n",
       "      <td>0.0</td>\n",
       "      <td>1</td>\n",
       "    </tr>\n",
       "    <tr>\n",
       "      <th>2000-01-06</th>\n",
       "      <td>744.37</td>\n",
       "      <td>744.37</td>\n",
       "      <td>744.37</td>\n",
       "      <td>744.37</td>\n",
       "      <td>-30.72</td>\n",
       "      <td>-3.96%</td>\n",
       "      <td>0.0</td>\n",
       "      <td>1</td>\n",
       "    </tr>\n",
       "    <tr>\n",
       "      <th>2000-01-05</th>\n",
       "      <td>775.09</td>\n",
       "      <td>775.09</td>\n",
       "      <td>775.09</td>\n",
       "      <td>775.09</td>\n",
       "      <td>-8.34</td>\n",
       "      <td>-1.06%</td>\n",
       "      <td>0.0</td>\n",
       "      <td>1</td>\n",
       "    </tr>\n",
       "    <tr>\n",
       "      <th>2000-01-04</th>\n",
       "      <td>783.43</td>\n",
       "      <td>783.43</td>\n",
       "      <td>783.43</td>\n",
       "      <td>783.43</td>\n",
       "      <td>-45.75</td>\n",
       "      <td>-5.52%</td>\n",
       "      <td>0.0</td>\n",
       "      <td>1</td>\n",
       "    </tr>\n",
       "  </tbody>\n",
       "</table>\n",
       "<p>6456 rows × 8 columns</p>\n",
       "</div>"
      ],
      "text/plain": [
       "               Open     High      Low     Last  Change    %Chg       Volume  \\\n",
       "Time                                                                          \n",
       "2025-09-04  5215.92  5225.68  5209.68  5221.52   -5.12  -0.10%   48531517.0   \n",
       "2025-09-03  5221.19  5239.91  5187.04  5226.64   42.75  +0.82%  697671345.0   \n",
       "2025-09-02  5130.87  5187.28  5113.23  5183.89  -50.68  -0.97%  777499803.0   \n",
       "2025-08-29  5298.49  5298.49  5218.27  5234.57  -86.83  -1.63%  786812006.0   \n",
       "2025-08-28  5288.38  5336.61  5255.49  5321.40   34.63  +0.66%  812409759.0   \n",
       "...             ...      ...      ...      ...     ...     ...          ...   \n",
       "2000-01-10   788.03   788.03   788.03   788.03   31.34  +4.14%          0.0   \n",
       "2000-01-07   756.69   756.69   756.69   756.69   12.32  +1.66%          0.0   \n",
       "2000-01-06   744.37   744.37   744.37   744.37  -30.72  -3.96%          0.0   \n",
       "2000-01-05   775.09   775.09   775.09   775.09   -8.34  -1.06%          0.0   \n",
       "2000-01-04   783.43   783.43   783.43   783.43  -45.75  -5.52%          0.0   \n",
       "\n",
       "            Month_num  \n",
       "Time                   \n",
       "2025-09-04          9  \n",
       "2025-09-03          9  \n",
       "2025-09-02          9  \n",
       "2025-08-29          8  \n",
       "2025-08-28          8  \n",
       "...               ...  \n",
       "2000-01-10          1  \n",
       "2000-01-07          1  \n",
       "2000-01-06          1  \n",
       "2000-01-05          1  \n",
       "2000-01-04          1  \n",
       "\n",
       "[6456 rows x 8 columns]"
      ]
     },
     "execution_count": 61,
     "metadata": {},
     "output_type": "execute_result"
    }
   ],
   "source": [
    "data_srit"
   ]
  },
  {
   "cell_type": "code",
   "execution_count": 62,
   "id": "88489f57",
   "metadata": {},
   "outputs": [],
   "source": [
    "data_srit_sept= data_srit[data_srit['Month_num']==9]['%Chg']"
   ]
  },
  {
   "cell_type": "code",
   "execution_count": 63,
   "id": "6bbdea95",
   "metadata": {},
   "outputs": [
    {
     "data": {
      "text/plain": [
       "pandas.core.series.Series"
      ]
     },
     "execution_count": 63,
     "metadata": {},
     "output_type": "execute_result"
    }
   ],
   "source": [
    "type(data_srit_sept)"
   ]
  },
  {
   "cell_type": "code",
   "execution_count": 64,
   "id": "360ba1a9",
   "metadata": {},
   "outputs": [],
   "source": [
    "data_srit_sept = data_srit_sept.to_frame(name ='%Chg')"
   ]
  },
  {
   "cell_type": "code",
   "execution_count": 65,
   "id": "ad7f46a4",
   "metadata": {},
   "outputs": [],
   "source": [
    "data_srit_sept['Year'] = data_srit_sept.index.year"
   ]
  },
  {
   "cell_type": "code",
   "execution_count": 66,
   "id": "a2cc736d",
   "metadata": {},
   "outputs": [
    {
     "data": {
      "text/html": [
       "<div>\n",
       "<style scoped>\n",
       "    .dataframe tbody tr th:only-of-type {\n",
       "        vertical-align: middle;\n",
       "    }\n",
       "\n",
       "    .dataframe tbody tr th {\n",
       "        vertical-align: top;\n",
       "    }\n",
       "\n",
       "    .dataframe thead th {\n",
       "        text-align: right;\n",
       "    }\n",
       "</style>\n",
       "<table border=\"1\" class=\"dataframe\">\n",
       "  <thead>\n",
       "    <tr style=\"text-align: right;\">\n",
       "      <th></th>\n",
       "      <th>%Chg</th>\n",
       "      <th>Year</th>\n",
       "    </tr>\n",
       "    <tr>\n",
       "      <th>Time</th>\n",
       "      <th></th>\n",
       "      <th></th>\n",
       "    </tr>\n",
       "  </thead>\n",
       "  <tbody>\n",
       "    <tr>\n",
       "      <th>2025-09-04</th>\n",
       "      <td>-0.10%</td>\n",
       "      <td>2025</td>\n",
       "    </tr>\n",
       "    <tr>\n",
       "      <th>2025-09-03</th>\n",
       "      <td>+0.82%</td>\n",
       "      <td>2025</td>\n",
       "    </tr>\n",
       "    <tr>\n",
       "      <th>2025-09-02</th>\n",
       "      <td>-0.97%</td>\n",
       "      <td>2025</td>\n",
       "    </tr>\n",
       "    <tr>\n",
       "      <th>2024-09-30</th>\n",
       "      <td>+0.58%</td>\n",
       "      <td>2024</td>\n",
       "    </tr>\n",
       "    <tr>\n",
       "      <th>2024-09-27</th>\n",
       "      <td>-0.96%</td>\n",
       "      <td>2024</td>\n",
       "    </tr>\n",
       "    <tr>\n",
       "      <th>...</th>\n",
       "      <td>...</td>\n",
       "      <td>...</td>\n",
       "    </tr>\n",
       "    <tr>\n",
       "      <th>2000-09-08</th>\n",
       "      <td>-3.38%</td>\n",
       "      <td>2000</td>\n",
       "    </tr>\n",
       "    <tr>\n",
       "      <th>2000-09-07</th>\n",
       "      <td>+2.26%</td>\n",
       "      <td>2000</td>\n",
       "    </tr>\n",
       "    <tr>\n",
       "      <th>2000-09-06</th>\n",
       "      <td>-2.94%</td>\n",
       "      <td>2000</td>\n",
       "    </tr>\n",
       "    <tr>\n",
       "      <th>2000-09-05</th>\n",
       "      <td>-2.48%</td>\n",
       "      <td>2000</td>\n",
       "    </tr>\n",
       "    <tr>\n",
       "      <th>2000-09-01</th>\n",
       "      <td>+0.17%</td>\n",
       "      <td>2000</td>\n",
       "    </tr>\n",
       "  </tbody>\n",
       "</table>\n",
       "<p>508 rows × 2 columns</p>\n",
       "</div>"
      ],
      "text/plain": [
       "              %Chg  Year\n",
       "Time                    \n",
       "2025-09-04  -0.10%  2025\n",
       "2025-09-03  +0.82%  2025\n",
       "2025-09-02  -0.97%  2025\n",
       "2024-09-30  +0.58%  2024\n",
       "2024-09-27  -0.96%  2024\n",
       "...            ...   ...\n",
       "2000-09-08  -3.38%  2000\n",
       "2000-09-07  +2.26%  2000\n",
       "2000-09-06  -2.94%  2000\n",
       "2000-09-05  -2.48%  2000\n",
       "2000-09-01  +0.17%  2000\n",
       "\n",
       "[508 rows x 2 columns]"
      ]
     },
     "execution_count": 66,
     "metadata": {},
     "output_type": "execute_result"
    }
   ],
   "source": [
    "data_srit_sept"
   ]
  },
  {
   "cell_type": "code",
   "execution_count": 67,
   "id": "b692d5b6",
   "metadata": {},
   "outputs": [],
   "source": [
    "data_srit_sept['%Chg'] = data_srit_sept['%Chg'].str.rstrip('%').astype(float)/100.0"
   ]
  },
  {
   "cell_type": "code",
   "execution_count": 69,
   "id": "3e1afc5e",
   "metadata": {},
   "outputs": [
    {
     "data": {
      "text/html": [
       "<div>\n",
       "<style scoped>\n",
       "    .dataframe tbody tr th:only-of-type {\n",
       "        vertical-align: middle;\n",
       "    }\n",
       "\n",
       "    .dataframe tbody tr th {\n",
       "        vertical-align: top;\n",
       "    }\n",
       "\n",
       "    .dataframe thead th {\n",
       "        text-align: right;\n",
       "    }\n",
       "</style>\n",
       "<table border=\"1\" class=\"dataframe\">\n",
       "  <thead>\n",
       "    <tr style=\"text-align: right;\">\n",
       "      <th></th>\n",
       "      <th>%Chg</th>\n",
       "      <th>Year</th>\n",
       "    </tr>\n",
       "    <tr>\n",
       "      <th>Time</th>\n",
       "      <th></th>\n",
       "      <th></th>\n",
       "    </tr>\n",
       "  </thead>\n",
       "  <tbody>\n",
       "    <tr>\n",
       "      <th>2025-09-04</th>\n",
       "      <td>0.9990</td>\n",
       "      <td>2025</td>\n",
       "    </tr>\n",
       "    <tr>\n",
       "      <th>2025-09-03</th>\n",
       "      <td>1.0082</td>\n",
       "      <td>2025</td>\n",
       "    </tr>\n",
       "    <tr>\n",
       "      <th>2025-09-02</th>\n",
       "      <td>0.9903</td>\n",
       "      <td>2025</td>\n",
       "    </tr>\n",
       "    <tr>\n",
       "      <th>2024-09-30</th>\n",
       "      <td>1.0058</td>\n",
       "      <td>2024</td>\n",
       "    </tr>\n",
       "    <tr>\n",
       "      <th>2024-09-27</th>\n",
       "      <td>0.9904</td>\n",
       "      <td>2024</td>\n",
       "    </tr>\n",
       "    <tr>\n",
       "      <th>...</th>\n",
       "      <td>...</td>\n",
       "      <td>...</td>\n",
       "    </tr>\n",
       "    <tr>\n",
       "      <th>2000-09-08</th>\n",
       "      <td>0.9662</td>\n",
       "      <td>2000</td>\n",
       "    </tr>\n",
       "    <tr>\n",
       "      <th>2000-09-07</th>\n",
       "      <td>1.0226</td>\n",
       "      <td>2000</td>\n",
       "    </tr>\n",
       "    <tr>\n",
       "      <th>2000-09-06</th>\n",
       "      <td>0.9706</td>\n",
       "      <td>2000</td>\n",
       "    </tr>\n",
       "    <tr>\n",
       "      <th>2000-09-05</th>\n",
       "      <td>0.9752</td>\n",
       "      <td>2000</td>\n",
       "    </tr>\n",
       "    <tr>\n",
       "      <th>2000-09-01</th>\n",
       "      <td>1.0017</td>\n",
       "      <td>2000</td>\n",
       "    </tr>\n",
       "  </tbody>\n",
       "</table>\n",
       "<p>508 rows × 2 columns</p>\n",
       "</div>"
      ],
      "text/plain": [
       "              %Chg  Year\n",
       "Time                    \n",
       "2025-09-04  0.9990  2025\n",
       "2025-09-03  1.0082  2025\n",
       "2025-09-02  0.9903  2025\n",
       "2024-09-30  1.0058  2024\n",
       "2024-09-27  0.9904  2024\n",
       "...            ...   ...\n",
       "2000-09-08  0.9662  2000\n",
       "2000-09-07  1.0226  2000\n",
       "2000-09-06  0.9706  2000\n",
       "2000-09-05  0.9752  2000\n",
       "2000-09-01  1.0017  2000\n",
       "\n",
       "[508 rows x 2 columns]"
      ]
     },
     "execution_count": 69,
     "metadata": {},
     "output_type": "execute_result"
    }
   ],
   "source": [
    "data_srit_sept['%Chg'] = data_srit_sept['%Chg']+1\n",
    "data_srit_sept"
   ]
  },
  {
   "cell_type": "code",
   "execution_count": 87,
   "id": "b0618a9d",
   "metadata": {},
   "outputs": [
    {
     "name": "stdout",
     "output_type": "stream",
     "text": [
      "Year\n",
      "2000    0.812720\n",
      "2001    0.803283\n",
      "2002    0.824422\n",
      "2003    0.993375\n",
      "2004    1.028945\n",
      "2005    1.002411\n",
      "2006    1.039852\n",
      "2007    1.037583\n",
      "2008    0.872722\n",
      "2009    1.044681\n",
      "2010    1.121185\n",
      "2011    0.965863\n",
      "2012    1.011903\n",
      "2013    1.028346\n",
      "2014    0.992645\n",
      "2015    0.989437\n",
      "2016    1.024067\n",
      "2017    1.005861\n",
      "2018    0.996302\n",
      "2019    1.014588\n",
      "2020    0.946044\n",
      "2021    0.941744\n",
      "2022    0.879484\n",
      "2023    0.930892\n",
      "2024    1.024568\n",
      "2025    0.997422\n",
      "Name: %Chg, dtype: float64\n"
     ]
    }
   ],
   "source": [
    "return_comp = data_srit_sept.groupby('Year')['%Chg'].prod() \n",
    "print(return_comp)"
   ]
  },
  {
   "cell_type": "code",
   "execution_count": 89,
   "id": "7adba117",
   "metadata": {},
   "outputs": [
    {
     "data": {
      "text/html": [
       "<div>\n",
       "<style scoped>\n",
       "    .dataframe tbody tr th:only-of-type {\n",
       "        vertical-align: middle;\n",
       "    }\n",
       "\n",
       "    .dataframe tbody tr th {\n",
       "        vertical-align: top;\n",
       "    }\n",
       "\n",
       "    .dataframe thead th {\n",
       "        text-align: right;\n",
       "    }\n",
       "</style>\n",
       "<table border=\"1\" class=\"dataframe\">\n",
       "  <thead>\n",
       "    <tr style=\"text-align: right;\">\n",
       "      <th></th>\n",
       "      <th>%Chg</th>\n",
       "    </tr>\n",
       "    <tr>\n",
       "      <th>Year</th>\n",
       "      <th></th>\n",
       "    </tr>\n",
       "  </thead>\n",
       "  <tbody>\n",
       "    <tr>\n",
       "      <th>2000</th>\n",
       "      <td>0.812720</td>\n",
       "    </tr>\n",
       "    <tr>\n",
       "      <th>2001</th>\n",
       "      <td>0.803283</td>\n",
       "    </tr>\n",
       "    <tr>\n",
       "      <th>2002</th>\n",
       "      <td>0.824422</td>\n",
       "    </tr>\n",
       "    <tr>\n",
       "      <th>2003</th>\n",
       "      <td>0.993375</td>\n",
       "    </tr>\n",
       "    <tr>\n",
       "      <th>2004</th>\n",
       "      <td>1.028945</td>\n",
       "    </tr>\n",
       "    <tr>\n",
       "      <th>2005</th>\n",
       "      <td>1.002411</td>\n",
       "    </tr>\n",
       "    <tr>\n",
       "      <th>2006</th>\n",
       "      <td>1.039852</td>\n",
       "    </tr>\n",
       "    <tr>\n",
       "      <th>2007</th>\n",
       "      <td>1.037583</td>\n",
       "    </tr>\n",
       "    <tr>\n",
       "      <th>2008</th>\n",
       "      <td>0.872722</td>\n",
       "    </tr>\n",
       "    <tr>\n",
       "      <th>2009</th>\n",
       "      <td>1.044681</td>\n",
       "    </tr>\n",
       "    <tr>\n",
       "      <th>2010</th>\n",
       "      <td>1.121185</td>\n",
       "    </tr>\n",
       "    <tr>\n",
       "      <th>2011</th>\n",
       "      <td>0.965863</td>\n",
       "    </tr>\n",
       "    <tr>\n",
       "      <th>2012</th>\n",
       "      <td>1.011903</td>\n",
       "    </tr>\n",
       "    <tr>\n",
       "      <th>2013</th>\n",
       "      <td>1.028346</td>\n",
       "    </tr>\n",
       "    <tr>\n",
       "      <th>2014</th>\n",
       "      <td>0.992645</td>\n",
       "    </tr>\n",
       "    <tr>\n",
       "      <th>2015</th>\n",
       "      <td>0.989437</td>\n",
       "    </tr>\n",
       "    <tr>\n",
       "      <th>2016</th>\n",
       "      <td>1.024067</td>\n",
       "    </tr>\n",
       "    <tr>\n",
       "      <th>2017</th>\n",
       "      <td>1.005861</td>\n",
       "    </tr>\n",
       "    <tr>\n",
       "      <th>2018</th>\n",
       "      <td>0.996302</td>\n",
       "    </tr>\n",
       "    <tr>\n",
       "      <th>2019</th>\n",
       "      <td>1.014588</td>\n",
       "    </tr>\n",
       "    <tr>\n",
       "      <th>2020</th>\n",
       "      <td>0.946044</td>\n",
       "    </tr>\n",
       "    <tr>\n",
       "      <th>2021</th>\n",
       "      <td>0.941744</td>\n",
       "    </tr>\n",
       "    <tr>\n",
       "      <th>2022</th>\n",
       "      <td>0.879484</td>\n",
       "    </tr>\n",
       "    <tr>\n",
       "      <th>2023</th>\n",
       "      <td>0.930892</td>\n",
       "    </tr>\n",
       "    <tr>\n",
       "      <th>2024</th>\n",
       "      <td>1.024568</td>\n",
       "    </tr>\n",
       "    <tr>\n",
       "      <th>2025</th>\n",
       "      <td>0.997422</td>\n",
       "    </tr>\n",
       "  </tbody>\n",
       "</table>\n",
       "</div>"
      ],
      "text/plain": [
       "          %Chg\n",
       "Year          \n",
       "2000  0.812720\n",
       "2001  0.803283\n",
       "2002  0.824422\n",
       "2003  0.993375\n",
       "2004  1.028945\n",
       "2005  1.002411\n",
       "2006  1.039852\n",
       "2007  1.037583\n",
       "2008  0.872722\n",
       "2009  1.044681\n",
       "2010  1.121185\n",
       "2011  0.965863\n",
       "2012  1.011903\n",
       "2013  1.028346\n",
       "2014  0.992645\n",
       "2015  0.989437\n",
       "2016  1.024067\n",
       "2017  1.005861\n",
       "2018  0.996302\n",
       "2019  1.014588\n",
       "2020  0.946044\n",
       "2021  0.941744\n",
       "2022  0.879484\n",
       "2023  0.930892\n",
       "2024  1.024568\n",
       "2025  0.997422"
      ]
     },
     "execution_count": 89,
     "metadata": {},
     "output_type": "execute_result"
    }
   ],
   "source": [
    "data_srit_sept_ret = return_comp.to_frame(name ='%Chg')\n",
    "data_srit_sept_ret"
   ]
  },
  {
   "cell_type": "code",
   "execution_count": null,
   "id": "0bdd4b30",
   "metadata": {},
   "outputs": [
    {
     "data": {
      "text/html": [
       "<div>\n",
       "<style scoped>\n",
       "    .dataframe tbody tr th:only-of-type {\n",
       "        vertical-align: middle;\n",
       "    }\n",
       "\n",
       "    .dataframe tbody tr th {\n",
       "        vertical-align: top;\n",
       "    }\n",
       "\n",
       "    .dataframe thead th {\n",
       "        text-align: right;\n",
       "    }\n",
       "</style>\n",
       "<table border=\"1\" class=\"dataframe\">\n",
       "  <thead>\n",
       "    <tr style=\"text-align: right;\">\n",
       "      <th></th>\n",
       "      <th>%Chg</th>\n",
       "    </tr>\n",
       "    <tr>\n",
       "      <th>Year</th>\n",
       "      <th></th>\n",
       "    </tr>\n",
       "  </thead>\n",
       "  <tbody>\n",
       "    <tr>\n",
       "      <th>2000</th>\n",
       "      <td>-18.728048</td>\n",
       "    </tr>\n",
       "    <tr>\n",
       "      <th>2001</th>\n",
       "      <td>-19.671724</td>\n",
       "    </tr>\n",
       "    <tr>\n",
       "      <th>2002</th>\n",
       "      <td>-17.557809</td>\n",
       "    </tr>\n",
       "    <tr>\n",
       "      <th>2003</th>\n",
       "      <td>-0.662525</td>\n",
       "    </tr>\n",
       "    <tr>\n",
       "      <th>2004</th>\n",
       "      <td>2.894497</td>\n",
       "    </tr>\n",
       "    <tr>\n",
       "      <th>2005</th>\n",
       "      <td>0.241123</td>\n",
       "    </tr>\n",
       "    <tr>\n",
       "      <th>2006</th>\n",
       "      <td>3.985213</td>\n",
       "    </tr>\n",
       "    <tr>\n",
       "      <th>2007</th>\n",
       "      <td>3.758348</td>\n",
       "    </tr>\n",
       "    <tr>\n",
       "      <th>2008</th>\n",
       "      <td>-12.727823</td>\n",
       "    </tr>\n",
       "    <tr>\n",
       "      <th>2009</th>\n",
       "      <td>4.468131</td>\n",
       "    </tr>\n",
       "    <tr>\n",
       "      <th>2010</th>\n",
       "      <td>12.118517</td>\n",
       "    </tr>\n",
       "    <tr>\n",
       "      <th>2011</th>\n",
       "      <td>-3.413714</td>\n",
       "    </tr>\n",
       "    <tr>\n",
       "      <th>2012</th>\n",
       "      <td>1.190315</td>\n",
       "    </tr>\n",
       "    <tr>\n",
       "      <th>2013</th>\n",
       "      <td>2.834639</td>\n",
       "    </tr>\n",
       "    <tr>\n",
       "      <th>2014</th>\n",
       "      <td>-0.735457</td>\n",
       "    </tr>\n",
       "    <tr>\n",
       "      <th>2015</th>\n",
       "      <td>-1.056331</td>\n",
       "    </tr>\n",
       "    <tr>\n",
       "      <th>2016</th>\n",
       "      <td>2.406659</td>\n",
       "    </tr>\n",
       "    <tr>\n",
       "      <th>2017</th>\n",
       "      <td>0.586120</td>\n",
       "    </tr>\n",
       "    <tr>\n",
       "      <th>2018</th>\n",
       "      <td>-0.369752</td>\n",
       "    </tr>\n",
       "    <tr>\n",
       "      <th>2019</th>\n",
       "      <td>1.458809</td>\n",
       "    </tr>\n",
       "    <tr>\n",
       "      <th>2020</th>\n",
       "      <td>-5.395573</td>\n",
       "    </tr>\n",
       "    <tr>\n",
       "      <th>2021</th>\n",
       "      <td>-5.825644</td>\n",
       "    </tr>\n",
       "    <tr>\n",
       "      <th>2022</th>\n",
       "      <td>-12.051573</td>\n",
       "    </tr>\n",
       "    <tr>\n",
       "      <th>2023</th>\n",
       "      <td>-6.910847</td>\n",
       "    </tr>\n",
       "    <tr>\n",
       "      <th>2024</th>\n",
       "      <td>2.456784</td>\n",
       "    </tr>\n",
       "    <tr>\n",
       "      <th>2025</th>\n",
       "      <td>-0.257796</td>\n",
       "    </tr>\n",
       "  </tbody>\n",
       "</table>\n",
       "</div>"
      ],
      "text/plain": [
       "           %Chg\n",
       "Year           \n",
       "2000 -18.728048\n",
       "2001 -19.671724\n",
       "2002 -17.557809\n",
       "2003  -0.662525\n",
       "2004   2.894497\n",
       "2005   0.241123\n",
       "2006   3.985213\n",
       "2007   3.758348\n",
       "2008 -12.727823\n",
       "2009   4.468131\n",
       "2010  12.118517\n",
       "2011  -3.413714\n",
       "2012   1.190315\n",
       "2013   2.834639\n",
       "2014  -0.735457\n",
       "2015  -1.056331\n",
       "2016   2.406659\n",
       "2017   0.586120\n",
       "2018  -0.369752\n",
       "2019   1.458809\n",
       "2020  -5.395573\n",
       "2021  -5.825644\n",
       "2022 -12.051573\n",
       "2023  -6.910847\n",
       "2024   2.456784\n",
       "2025  -0.257796"
      ]
     },
     "execution_count": 90,
     "metadata": {},
     "output_type": "execute_result"
    }
   ],
   "source": [
    "data_srit_sept_ret = (data_srit_sept_ret - 1)*100\n",
    "data_srit_sept_ret"
   ]
  },
  {
   "cell_type": "code",
   "execution_count": 97,
   "id": "cc28dd84",
   "metadata": {},
   "outputs": [
    {
     "data": {
      "text/plain": [
       "Index([2000, 2001, 2002, 2003, 2004, 2005, 2006, 2007, 2008, 2009, 2010, 2011,\n",
       "       2012, 2013, 2014, 2015, 2016, 2017, 2018, 2019, 2020, 2021, 2022, 2023,\n",
       "       2024, 2025],\n",
       "      dtype='int32', name='Year')"
      ]
     },
     "execution_count": 97,
     "metadata": {},
     "output_type": "execute_result"
    }
   ],
   "source": [
    "data_srit_sept_ret.index"
   ]
  },
  {
   "cell_type": "code",
   "execution_count": 99,
   "id": "d5434160",
   "metadata": {},
   "outputs": [
    {
     "data": {
      "image/png": "[encoded data removed]",
      "text/plain": [
       "<Figure size 1400x700 with 1 Axes>"
      ]
     },
     "metadata": {},
     "output_type": "display_data"
    }
   ],
   "source": [
    "plt.figure(figsize=(14,7))\n",
    "plt.plot(data_srit_sept_ret.index, data_srit_sept_ret['%Chg'])\n",
    "plt.title(\"percentage growth in IT over month of September\")\n",
    "plt.xlabel('Year')\n",
    "plt.ylabel('rate of return')\n",
    "plt.show()"
   ]
  },
  {
   "cell_type": "code",
   "execution_count": 100,
   "id": "b7153b63",
   "metadata": {},
   "outputs": [],
   "source": [
    "import plotly.graph_objs as go"
   ]
  },
  {
   "cell_type": "code",
   "execution_count": 108,
   "id": "dd6fadad",
   "metadata": {},
   "outputs": [
    {
     "data": {
      "application/vnd.plotly.v1+json": {
       "config": {
        "plotlyServerURL": "https://plot.ly"
       },
       "data": [
        {
         "mode": "lines",
         "type": "scatter",
         "x": {
          "bdata": "0AcAANEHAADSBwAA0wcAANQHAADVBwAA1gcAANcHAADYBwAA2QcAANoHAADbBwAA3AcAAN0HAADeBwAA3wcAAOAHAADhBwAA4gcAAOMHAADkBwAA5QcAAOYHAADnBwAA6AcAAOkHAAA=",
          "dtype": "i4"
         },
         "y": {
          "bdata": "aWgzX2G6MsDezjUe9qszwPb00JLMjjHAYKIg12cz5b/gXm1E7icHQGB+v/Qb3c4/zP0ZcrfhD0DwcUyqGBEOQPqx/zaldCnAANoYyF3fEUCKxd9CrjwoQB70sytJTwvA3EW994cL8z/C8kt1V60GQIQfa2DciOe/Bhkccbvm8L+g9X2A1kADQMDooF1/weI/eP7eewOq178cjgBxSFf3P5iEegkRlRXAUDmyuXVNF8CQBFbQZxoowCgTDi+1pBvAhPf2bH6nA0CA66b8un/Qvw==",
          "dtype": "f8"
         }
        }
       ],
       "layout": {
        "autosize": false,
        "height": 500,
        "minreducedheight": 100,
        "minreducedwidth": 250,
        "showlegend": true,
        "template": {
         "data": {
          "bar": [
           {
            "error_x": {
             "color": "#2a3f5f"
            },
            "error_y": {
             "color": "#2a3f5f"
            },
            "marker": {
             "line": {
              "color": "#E5ECF6",
              "width": 0.5
             },
             "pattern": {
              "fillmode": "overlay",
              "size": 10,
              "solidity": 0.2
             }
            },
            "type": "bar"
           }
          ],
          "barpolar": [
           {
            "marker": {
             "line": {
              "color": "#E5ECF6",
              "width": 0.5
             },
             "pattern": {
              "fillmode": "overlay",
              "size": 10,
              "solidity": 0.2
             }
            },
            "type": "barpolar"
           }
          ],
          "carpet": [
           {
            "aaxis": {
             "endlinecolor": "#2a3f5f",
             "gridcolor": "white",
             "linecolor": "white",
             "minorgridcolor": "white",
             "startlinecolor": "#2a3f5f"
            },
            "baxis": {
             "endlinecolor": "#2a3f5f",
             "gridcolor": "white",
             "linecolor": "white",
             "minorgridcolor": "white",
             "startlinecolor": "#2a3f5f"
            },
            "type": "carpet"
           }
          ],
          "choropleth": [
           {
            "colorbar": {
             "outlinewidth": 0,
             "ticks": ""
            },
            "type": "choropleth"
           }
          ],
          "contour": [
           {
            "colorbar": {
             "outlinewidth": 0,
             "ticks": ""
            },
            "colorscale": [
             [
              0,
              "#0d0887"
             ],
             [
              0.1111111111111111,
              "#46039f"
             ],
             [
              0.2222222222222222,
              "#7201a8"
             ],
             [
              0.3333333333333333,
              "#9c179e"
             ],
             [
              0.4444444444444444,
              "#bd3786"
             ],
             [
              0.5555555555555556,
              "#d8576b"
             ],
             [
              0.6666666666666666,
              "#ed7953"
             ],
             [
              0.7777777777777778,
              "#fb9f3a"
             ],
             [
              0.8888888888888888,
              "#fdca26"
             ],
             [
              1,
              "#f0f921"
             ]
            ],
            "type": "contour"
           }
          ],
          "contourcarpet": [
           {
            "colorbar": {
             "outlinewidth": 0,
             "ticks": ""
            },
            "type": "contourcarpet"
           }
          ],
          "heatmap": [
           {
            "colorbar": {
             "outlinewidth": 0,
             "ticks": ""
            },
            "colorscale": [
             [
              0,
              "#0d0887"
             ],
             [
              0.1111111111111111,
              "#46039f"
             ],
             [
              0.2222222222222222,
              "#7201a8"
             ],
             [
              0.3333333333333333,
              "#9c179e"
             ],
             [
              0.4444444444444444,
              "#bd3786"
             ],
             [
              0.5555555555555556,
              "#d8576b"
             ],
             [
              0.6666666666666666,
              "#ed7953"
             ],
             [
              0.7777777777777778,
              "#fb9f3a"
             ],
             [
              0.8888888888888888,
              "#fdca26"
             ],
             [
              1,
              "#f0f921"
             ]
            ],
            "type": "heatmap"
           }
          ],
          "histogram": [
           {
            "marker": {
             "pattern": {
              "fillmode": "overlay",
              "size": 10,
              "solidity": 0.2
             }
            },
            "type": "histogram"
           }
          ],
          "histogram2d": [
           {
            "colorbar": {
             "outlinewidth": 0,
             "ticks": ""
            },
            "colorscale": [
             [
              0,
              "#0d0887"
             ],
             [
              0.1111111111111111,
              "#46039f"
             ],
             [
              0.2222222222222222,
              "#7201a8"
             ],
             [
              0.3333333333333333,
              "#9c179e"
             ],
             [
              0.4444444444444444,
              "#bd3786"
             ],
             [
              0.5555555555555556,
              "#d8576b"
             ],
             [
              0.6666666666666666,
              "#ed7953"
             ],
             [
              0.7777777777777778,
              "#fb9f3a"
             ],
             [
              0.8888888888888888,
              "#fdca26"
             ],
             [
              1,
              "#f0f921"
             ]
            ],
            "type": "histogram2d"
           }
          ],
          "histogram2dcontour": [
           {
            "colorbar": {
             "outlinewidth": 0,
             "ticks": ""
            },
            "colorscale": [
             [
              0,
              "#0d0887"
             ],
             [
              0.1111111111111111,
              "#46039f"
             ],
             [
              0.2222222222222222,
              "#7201a8"
             ],
             [
              0.3333333333333333,
              "#9c179e"
             ],
             [
              0.4444444444444444,
              "#bd3786"
             ],
             [
              0.5555555555555556,
              "#d8576b"
             ],
             [
              0.6666666666666666,
              "#ed7953"
             ],
             [
              0.7777777777777778,
              "#fb9f3a"
             ],
             [
              0.8888888888888888,
              "#fdca26"
             ],
             [
              1,
              "#f0f921"
             ]
            ],
            "type": "histogram2dcontour"
           }
          ],
          "mesh3d": [
           {
            "colorbar": {
             "outlinewidth": 0,
             "ticks": ""
            },
            "type": "mesh3d"
           }
          ],
          "parcoords": [
           {
            "line": {
             "colorbar": {
              "outlinewidth": 0,
              "ticks": ""
             }
            },
            "type": "parcoords"
           }
          ],
          "pie": [
           {
            "automargin": true,
            "type": "pie"
           }
          ],
          "scatter": [
           {
            "fillpattern": {
             "fillmode": "overlay",
             "size": 10,
             "solidity": 0.2
            },
            "type": "scatter"
           }
          ],
          "scatter3d": [
           {
            "line": {
             "colorbar": {
              "outlinewidth": 0,
              "ticks": ""
             }
            },
            "marker": {
             "colorbar": {
              "outlinewidth": 0,
              "ticks": ""
             }
            },
            "type": "scatter3d"
           }
          ],
          "scattercarpet": [
           {
            "marker": {
             "colorbar": {
              "outlinewidth": 0,
              "ticks": ""
             }
            },
            "type": "scattercarpet"
           }
          ],
          "scattergeo": [
           {
            "marker": {
             "colorbar": {
              "outlinewidth": 0,
              "ticks": ""
             }
            },
            "type": "scattergeo"
           }
          ],
          "scattergl": [
           {
            "marker": {
             "colorbar": {
              "outlinewidth": 0,
              "ticks": ""
             }
            },
            "type": "scattergl"
           }
          ],
          "scattermap": [
           {
            "marker": {
             "colorbar": {
              "outlinewidth": 0,
              "ticks": ""
             }
            },
            "type": "scattermap"
           }
          ],
          "scattermapbox": [
           {
            "marker": {
             "colorbar": {
              "outlinewidth": 0,
              "ticks": ""
             }
            },
            "type": "scattermapbox"
           }
          ],
          "scatterpolar": [
           {
            "marker": {
             "colorbar": {
              "outlinewidth": 0,
              "ticks": ""
             }
            },
            "type": "scatterpolar"
           }
          ],
          "scatterpolargl": [
           {
            "marker": {
             "colorbar": {
              "outlinewidth": 0,
              "ticks": ""
             }
            },
            "type": "scatterpolargl"
           }
          ],
          "scatterternary": [
           {
            "marker": {
             "colorbar": {
              "outlinewidth": 0,
              "ticks": ""
             }
            },
            "type": "scatterternary"
           }
          ],
          "surface": [
           {
            "colorbar": {
             "outlinewidth": 0,
             "ticks": ""
            },
            "colorscale": [
             [
              0,
              "#0d0887"
             ],
             [
              0.1111111111111111,
              "#46039f"
             ],
             [
              0.2222222222222222,
              "#7201a8"
             ],
             [
              0.3333333333333333,
              "#9c179e"
             ],
             [
              0.4444444444444444,
              "#bd3786"
             ],
             [
              0.5555555555555556,
              "#d8576b"
             ],
             [
              0.6666666666666666,
              "#ed7953"
             ],
             [
              0.7777777777777778,
              "#fb9f3a"
             ],
             [
              0.8888888888888888,
              "#fdca26"
             ],
             [
              1,
              "#f0f921"
             ]
            ],
            "type": "surface"
           }
          ],
          "table": [
           {
            "cells": {
             "fill": {
              "color": "#EBF0F8"
             },
             "line": {
              "color": "white"
             }
            },
            "header": {
             "fill": {
              "color": "#C8D4E3"
             },
             "line": {
              "color": "white"
             }
            },
            "type": "table"
           }
          ]
         },
         "layout": {
          "annotationdefaults": {
           "arrowcolor": "#2a3f5f",
           "arrowhead": 0,
           "arrowwidth": 1
          },
          "autotypenumbers": "strict",
          "coloraxis": {
           "colorbar": {
            "outlinewidth": 0,
            "ticks": ""
           }
          },
          "colorscale": {
           "diverging": [
            [
             0,
             "#8e0152"
            ],
            [
             0.1,
             "#c51b7d"
            ],
            [
             0.2,
             "#de77ae"
            ],
            [
             0.3,
             "#f1b6da"
            ],
            [
             0.4,
             "#fde0ef"
            ],
            [
             0.5,
             "#f7f7f7"
            ],
            [
             0.6,
             "#e6f5d0"
            ],
            [
             0.7,
             "#b8e186"
            ],
            [
             0.8,
             "#7fbc41"
            ],
            [
             0.9,
             "#4d9221"
            ],
            [
             1,
             "#276419"
            ]
           ],
           "sequential": [
            [
             0,
             "#0d0887"
            ],
            [
             0.1111111111111111,
             "#46039f"
            ],
            [
             0.2222222222222222,
             "#7201a8"
            ],
            [
             0.3333333333333333,
             "#9c179e"
            ],
            [
             0.4444444444444444,
             "#bd3786"
            ],
            [
             0.5555555555555556,
             "#d8576b"
            ],
            [
             0.6666666666666666,
             "#ed7953"
            ],
            [
             0.7777777777777778,
             "#fb9f3a"
            ],
            [
             0.8888888888888888,
             "#fdca26"
            ],
            [
             1,
             "#f0f921"
            ]
           ],
           "sequentialminus": [
            [
             0,
             "#0d0887"
            ],
            [
             0.1111111111111111,
             "#46039f"
            ],
            [
             0.2222222222222222,
             "#7201a8"
            ],
            [
             0.3333333333333333,
             "#9c179e"
            ],
            [
             0.4444444444444444,
             "#bd3786"
            ],
            [
             0.5555555555555556,
             "#d8576b"
            ],
            [
             0.6666666666666666,
             "#ed7953"
            ],
            [
             0.7777777777777778,
             "#fb9f3a"
            ],
            [
             0.8888888888888888,
             "#fdca26"
            ],
            [
             1,
             "#f0f921"
            ]
           ]
          },
          "colorway": [
           "#636efa",
           "#EF553B",
           "#00cc96",
           "#ab63fa",
           "#FFA15A",
           "#19d3f3",
           "#FF6692",
           "#B6E880",
           "#FF97FF",
           "#FECB52"
          ],
          "font": {
           "color": "#2a3f5f"
          },
          "geo": {
           "bgcolor": "white",
           "lakecolor": "white",
           "landcolor": "#E5ECF6",
           "showlakes": true,
           "showland": true,
           "subunitcolor": "white"
          },
          "hoverlabel": {
           "align": "left"
          },
          "hovermode": "closest",
          "mapbox": {
           "style": "light"
          },
          "paper_bgcolor": "white",
          "plot_bgcolor": "#E5ECF6",
          "polar": {
           "angularaxis": {
            "gridcolor": "white",
            "linecolor": "white",
            "ticks": ""
           },
           "bgcolor": "#E5ECF6",
           "radialaxis": {
            "gridcolor": "white",
            "linecolor": "white",
            "ticks": ""
           }
          },
          "scene": {
           "xaxis": {
            "backgroundcolor": "#E5ECF6",
            "gridcolor": "white",
            "gridwidth": 2,
            "linecolor": "white",
            "showbackground": true,
            "ticks": "",
            "zerolinecolor": "white"
           },
           "yaxis": {
            "backgroundcolor": "#E5ECF6",
            "gridcolor": "white",
            "gridwidth": 2,
            "linecolor": "white",
            "showbackground": true,
            "ticks": "",
            "zerolinecolor": "white"
           },
           "zaxis": {
            "backgroundcolor": "#E5ECF6",
            "gridcolor": "white",
            "gridwidth": 2,
            "linecolor": "white",
            "showbackground": true,
            "ticks": "",
            "zerolinecolor": "white"
           }
          },
          "shapedefaults": {
           "line": {
            "color": "#2a3f5f"
           }
          },
          "ternary": {
           "aaxis": {
            "gridcolor": "white",
            "linecolor": "white",
            "ticks": ""
           },
           "baxis": {
            "gridcolor": "white",
            "linecolor": "white",
            "ticks": ""
           },
           "bgcolor": "#E5ECF6",
           "caxis": {
            "gridcolor": "white",
            "linecolor": "white",
            "ticks": ""
           }
          },
          "title": {
           "x": 0.05
          },
          "xaxis": {
           "automargin": true,
           "gridcolor": "white",
           "linecolor": "white",
           "ticks": "",
           "title": {
            "standoff": 15
           },
           "zerolinecolor": "white",
           "zerolinewidth": 2
          },
          "yaxis": {
           "automargin": true,
           "gridcolor": "white",
           "linecolor": "white",
           "ticks": "",
           "title": {
            "standoff": 15
           },
           "zerolinecolor": "white",
           "zerolinewidth": 2
          }
         }
        },
        "title": {
         "text": "Percentage growth in IT over month of September"
        },
        "width": 1200,
        "xaxis": {
         "title": {
          "text": "Year"
         }
        },
        "yaxis": {
         "title": {
          "text": "Rate of Return"
         }
        }
       }
      }
     },
     "metadata": {},
     "output_type": "display_data"
    }
   ],
   "source": [
    "fig = go.Figure()\n",
    "\n",
    "fig.add_trace(go.Scatter(x=data_srit_sept_ret.index, y = data_srit_sept_ret['%Chg'], mode='lines'))\n",
    "fig.update_layout(autosize = False,\n",
    "                  minreducedwidth = 250, \n",
    "                  minreducedheight = 100,\n",
    "                   width = 1200, height = 500,\n",
    "                    title = 'Percentage growth in IT over month of September',\n",
    "                    xaxis_title = 'Year', yaxis_title = 'Rate of Return',\n",
    "                    showlegend = True)\n",
    "fig.show()\n"
   ]
  },
  {
   "cell_type": "code",
   "execution_count": null,
   "id": "8f02d18a",
   "metadata": {},
   "outputs": [],
   "source": []
  }
 ],
 "metadata": {
  "kernelspec": {
   "display_name": "stock_analysis",
   "language": "python",
   "name": "stock_analysis"
  },
  "language_info": {
   "codemirror_mode": {
    "name": "ipython",
    "version": 3
   },
   "file_extension": ".py",
   "mimetype": "text/x-python",
   "name": "python",
   "nbconvert_exporter": "python",
   "pygments_lexer": "ipython3",
   "version": "3.9.6"
  }
 },
 "nbformat": 4,
 "nbformat_minor": 5
}
